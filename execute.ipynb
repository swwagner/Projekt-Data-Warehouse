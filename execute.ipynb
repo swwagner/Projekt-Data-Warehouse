run create_tables.py
run etl.py